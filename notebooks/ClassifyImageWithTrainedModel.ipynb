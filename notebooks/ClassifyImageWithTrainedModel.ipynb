{
 "cells": [
  {
   "cell_type": "code",
   "execution_count": 1,
   "id": "f4e6262a-89be-4d34-b49d-85507b1d7d66",
   "metadata": {},
   "outputs": [
    {
     "name": "stderr",
     "output_type": "stream",
     "text": [
      "2024-01-27 15:32:01.573508: I external/local_tsl/tsl/cuda/cudart_stub.cc:31] Could not find cuda drivers on your machine, GPU will not be used.\n",
      "2024-01-27 15:32:15.379534: E external/local_xla/xla/stream_executor/cuda/cuda_dnn.cc:9261] Unable to register cuDNN factory: Attempting to register factory for plugin cuDNN when one has already been registered\n",
      "2024-01-27 15:32:15.477708: E external/local_xla/xla/stream_executor/cuda/cuda_fft.cc:607] Unable to register cuFFT factory: Attempting to register factory for plugin cuFFT when one has already been registered\n",
      "2024-01-27 15:32:17.972254: E external/local_xla/xla/stream_executor/cuda/cuda_blas.cc:1515] Unable to register cuBLAS factory: Attempting to register factory for plugin cuBLAS when one has already been registered\n",
      "2024-01-27 15:32:19.895371: I external/local_tsl/tsl/cuda/cudart_stub.cc:31] Could not find cuda drivers on your machine, GPU will not be used.\n",
      "2024-01-27 15:32:19.898896: I tensorflow/core/platform/cpu_feature_guard.cc:182] This TensorFlow binary is optimized to use available CPU instructions in performance-critical operations.\n",
      "To enable the following instructions: AVX2 FMA, in other operations, rebuild TensorFlow with the appropriate compiler flags.\n",
      "2024-01-27 15:32:32.580867: W tensorflow/compiler/tf2tensorrt/utils/py_utils.cc:38] TF-TRT Warning: Could not find TensorRT\n"
     ]
    }
   ],
   "source": [
    "from keras.models import load_model\n",
    "from keras.preprocessing import image\n",
    "import numpy as np"
   ]
  },
  {
   "cell_type": "code",
   "execution_count": 6,
   "id": "17f1ffa4-d588-433c-b741-3dba3839d638",
   "metadata": {},
   "outputs": [
    {
     "name": "stderr",
     "output_type": "stream",
     "text": [
      "2024-01-27 15:36:57.325157: W external/local_tsl/tsl/framework/cpu_allocator_impl.cc:83] Allocation of 37879808 exceeds 10% of free system memory.\n",
      "2024-01-27 15:36:57.369347: W external/local_tsl/tsl/framework/cpu_allocator_impl.cc:83] Allocation of 37879808 exceeds 10% of free system memory.\n",
      "2024-01-27 15:36:57.382085: W external/local_tsl/tsl/framework/cpu_allocator_impl.cc:83] Allocation of 37879808 exceeds 10% of free system memory.\n",
      "2024-01-27 15:36:58.356117: W external/local_tsl/tsl/framework/cpu_allocator_impl.cc:83] Allocation of 37879808 exceeds 10% of free system memory.\n",
      "2024-01-27 15:36:58.455267: W external/local_tsl/tsl/framework/cpu_allocator_impl.cc:83] Allocation of 37879808 exceeds 10% of free system memory.\n"
     ]
    }
   ],
   "source": [
    "import os\n",
    "# Load the trained model\n",
    "model_path = os.path.abspath('image_classifier_model.h5')\n",
    "model = load_model(model_path)"
   ]
  },
  {
   "cell_type": "code",
   "execution_count": 7,
   "id": "cae0d263-8283-4ba2-8f06-5197af61cd0f",
   "metadata": {},
   "outputs": [],
   "source": [
    "# Load and preprocess the image to be predicted\n",
    "img_path = '../datasets/Plastics/plastic295.jpg'  # Replace with the path to your test image\n",
    "img = image.load_img(img_path, target_size=(150, 150))\n",
    "img_array = image.img_to_array(img)\n",
    "img_array = np.expand_dims(img_array, axis=0) / 255.0  # Normalize the image"
   ]
  },
  {
   "cell_type": "code",
   "execution_count": 8,
   "id": "d52a2400-e904-4d4c-b623-bc75f5bbcde9",
   "metadata": {},
   "outputs": [
    {
     "name": "stdout",
     "output_type": "stream",
     "text": [
      "1/1 [==============================] - 1s 685ms/step\n"
     ]
    }
   ],
   "source": [
    "# Make the prediction\n",
    "prediction = model.predict(img_array)"
   ]
  },
  {
   "cell_type": "code",
   "execution_count": 9,
   "id": "3782bf30-a938-4208-984c-d8faa4a32c2b",
   "metadata": {},
   "outputs": [
    {
     "name": "stdout",
     "output_type": "stream",
     "text": [
      "The predicted class for the image is: plastic\n"
     ]
    }
   ],
   "source": [
    "# Get the class label with the highest probability\n",
    "class_index = np.argmax(prediction)\n",
    "class_labels = {0: 'carbon', 1: 'glass', 2: 'metal', 3: 'paper', 4: 'plastic'}\n",
    "predicted_class = class_labels[class_index]\n",
    "\n",
    "# Display the prediction\n",
    "print(f\"The predicted class for the image is: {predicted_class}\")"
   ]
  }
 ],
 "metadata": {
  "kernelspec": {
   "display_name": "Python 3 (ipykernel)",
   "language": "python",
   "name": "python3"
  },
  "language_info": {
   "codemirror_mode": {
    "name": "ipython",
    "version": 3
   },
   "file_extension": ".py",
   "mimetype": "text/x-python",
   "name": "python",
   "nbconvert_exporter": "python",
   "pygments_lexer": "ipython3",
   "version": "3.11.4"
  }
 },
 "nbformat": 4,
 "nbformat_minor": 5
}
