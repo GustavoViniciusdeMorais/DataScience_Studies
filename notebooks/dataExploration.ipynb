{
 "cells": [
  {
   "cell_type": "code",
   "execution_count": 2,
   "id": "912ad632-f45d-47f0-8ad5-d07be71d34fb",
   "metadata": {
    "tags": []
   },
   "outputs": [],
   "source": [
    "import pandas as pd"
   ]
  },
  {
   "cell_type": "code",
   "execution_count": 32,
   "id": "4bd56ae7-73ea-41ab-be98-f43fcefccf44",
   "metadata": {
    "tags": []
   },
   "outputs": [],
   "source": [
    "houses = pd.read_csv('../data/train.csv')"
   ]
  },
  {
   "cell_type": "code",
   "execution_count": 22,
   "id": "e2740ed8-65ce-4e68-a321-245b2fb5f96c",
   "metadata": {
    "tags": []
   },
   "outputs": [
    {
     "data": {
      "text/html": [
       "<div>\n",
       "<style scoped>\n",
       "    .dataframe tbody tr th:only-of-type {\n",
       "        vertical-align: middle;\n",
       "    }\n",
       "\n",
       "    .dataframe tbody tr th {\n",
       "        vertical-align: top;\n",
       "    }\n",
       "\n",
       "    .dataframe thead th {\n",
       "        text-align: right;\n",
       "    }\n",
       "</style>\n",
       "<table border=\"1\" class=\"dataframe\">\n",
       "  <thead>\n",
       "    <tr style=\"text-align: right;\">\n",
       "      <th></th>\n",
       "      <th>Id</th>\n",
       "      <th>MSSubClass</th>\n",
       "      <th>MSZoning</th>\n",
       "      <th>LotFrontage</th>\n",
       "      <th>LotArea</th>\n",
       "      <th>Street</th>\n",
       "      <th>Alley</th>\n",
       "      <th>LotShape</th>\n",
       "      <th>LandContour</th>\n",
       "      <th>Utilities</th>\n",
       "      <th>...</th>\n",
       "      <th>PoolArea</th>\n",
       "      <th>PoolQC</th>\n",
       "      <th>Fence</th>\n",
       "      <th>MiscFeature</th>\n",
       "      <th>MiscVal</th>\n",
       "      <th>MoSold</th>\n",
       "      <th>YrSold</th>\n",
       "      <th>SaleType</th>\n",
       "      <th>SaleCondition</th>\n",
       "      <th>SalePrice</th>\n",
       "    </tr>\n",
       "  </thead>\n",
       "  <tbody>\n",
       "    <tr>\n",
       "      <th>0</th>\n",
       "      <td>1</td>\n",
       "      <td>60</td>\n",
       "      <td>RL</td>\n",
       "      <td>65.0</td>\n",
       "      <td>8450</td>\n",
       "      <td>Pave</td>\n",
       "      <td>NaN</td>\n",
       "      <td>Reg</td>\n",
       "      <td>Lvl</td>\n",
       "      <td>AllPub</td>\n",
       "      <td>...</td>\n",
       "      <td>0</td>\n",
       "      <td>NaN</td>\n",
       "      <td>NaN</td>\n",
       "      <td>NaN</td>\n",
       "      <td>0</td>\n",
       "      <td>2</td>\n",
       "      <td>2008</td>\n",
       "      <td>WD</td>\n",
       "      <td>Normal</td>\n",
       "      <td>208500</td>\n",
       "    </tr>\n",
       "    <tr>\n",
       "      <th>1</th>\n",
       "      <td>2</td>\n",
       "      <td>20</td>\n",
       "      <td>RL</td>\n",
       "      <td>80.0</td>\n",
       "      <td>9600</td>\n",
       "      <td>Pave</td>\n",
       "      <td>NaN</td>\n",
       "      <td>Reg</td>\n",
       "      <td>Lvl</td>\n",
       "      <td>AllPub</td>\n",
       "      <td>...</td>\n",
       "      <td>0</td>\n",
       "      <td>NaN</td>\n",
       "      <td>NaN</td>\n",
       "      <td>NaN</td>\n",
       "      <td>0</td>\n",
       "      <td>5</td>\n",
       "      <td>2007</td>\n",
       "      <td>WD</td>\n",
       "      <td>Normal</td>\n",
       "      <td>181500</td>\n",
       "    </tr>\n",
       "    <tr>\n",
       "      <th>2</th>\n",
       "      <td>3</td>\n",
       "      <td>60</td>\n",
       "      <td>RL</td>\n",
       "      <td>68.0</td>\n",
       "      <td>11250</td>\n",
       "      <td>Pave</td>\n",
       "      <td>NaN</td>\n",
       "      <td>IR1</td>\n",
       "      <td>Lvl</td>\n",
       "      <td>AllPub</td>\n",
       "      <td>...</td>\n",
       "      <td>0</td>\n",
       "      <td>NaN</td>\n",
       "      <td>NaN</td>\n",
       "      <td>NaN</td>\n",
       "      <td>0</td>\n",
       "      <td>9</td>\n",
       "      <td>2008</td>\n",
       "      <td>WD</td>\n",
       "      <td>Normal</td>\n",
       "      <td>223500</td>\n",
       "    </tr>\n",
       "    <tr>\n",
       "      <th>3</th>\n",
       "      <td>4</td>\n",
       "      <td>70</td>\n",
       "      <td>RL</td>\n",
       "      <td>60.0</td>\n",
       "      <td>9550</td>\n",
       "      <td>Pave</td>\n",
       "      <td>NaN</td>\n",
       "      <td>IR1</td>\n",
       "      <td>Lvl</td>\n",
       "      <td>AllPub</td>\n",
       "      <td>...</td>\n",
       "      <td>0</td>\n",
       "      <td>NaN</td>\n",
       "      <td>NaN</td>\n",
       "      <td>NaN</td>\n",
       "      <td>0</td>\n",
       "      <td>2</td>\n",
       "      <td>2006</td>\n",
       "      <td>WD</td>\n",
       "      <td>Abnorml</td>\n",
       "      <td>140000</td>\n",
       "    </tr>\n",
       "    <tr>\n",
       "      <th>4</th>\n",
       "      <td>5</td>\n",
       "      <td>60</td>\n",
       "      <td>RL</td>\n",
       "      <td>84.0</td>\n",
       "      <td>14260</td>\n",
       "      <td>Pave</td>\n",
       "      <td>NaN</td>\n",
       "      <td>IR1</td>\n",
       "      <td>Lvl</td>\n",
       "      <td>AllPub</td>\n",
       "      <td>...</td>\n",
       "      <td>0</td>\n",
       "      <td>NaN</td>\n",
       "      <td>NaN</td>\n",
       "      <td>NaN</td>\n",
       "      <td>0</td>\n",
       "      <td>12</td>\n",
       "      <td>2008</td>\n",
       "      <td>WD</td>\n",
       "      <td>Normal</td>\n",
       "      <td>250000</td>\n",
       "    </tr>\n",
       "  </tbody>\n",
       "</table>\n",
       "<p>5 rows × 81 columns</p>\n",
       "</div>"
      ],
      "text/plain": [
       "   Id  MSSubClass MSZoning  LotFrontage  LotArea Street Alley LotShape  \\\n",
       "0   1          60       RL         65.0     8450   Pave   NaN      Reg   \n",
       "1   2          20       RL         80.0     9600   Pave   NaN      Reg   \n",
       "2   3          60       RL         68.0    11250   Pave   NaN      IR1   \n",
       "3   4          70       RL         60.0     9550   Pave   NaN      IR1   \n",
       "4   5          60       RL         84.0    14260   Pave   NaN      IR1   \n",
       "\n",
       "  LandContour Utilities  ... PoolArea PoolQC Fence MiscFeature MiscVal MoSold  \\\n",
       "0         Lvl    AllPub  ...        0    NaN   NaN         NaN       0      2   \n",
       "1         Lvl    AllPub  ...        0    NaN   NaN         NaN       0      5   \n",
       "2         Lvl    AllPub  ...        0    NaN   NaN         NaN       0      9   \n",
       "3         Lvl    AllPub  ...        0    NaN   NaN         NaN       0      2   \n",
       "4         Lvl    AllPub  ...        0    NaN   NaN         NaN       0     12   \n",
       "\n",
       "  YrSold  SaleType  SaleCondition  SalePrice  \n",
       "0   2008        WD         Normal     208500  \n",
       "1   2007        WD         Normal     181500  \n",
       "2   2008        WD         Normal     223500  \n",
       "3   2006        WD        Abnorml     140000  \n",
       "4   2008        WD         Normal     250000  \n",
       "\n",
       "[5 rows x 81 columns]"
      ]
     },
     "execution_count": 22,
     "metadata": {},
     "output_type": "execute_result"
    }
   ],
   "source": [
    "houses.head()"
   ]
  },
  {
   "cell_type": "code",
   "execution_count": 17,
   "id": "b21e33cd-c2fd-487a-8809-0b5490a76bb5",
   "metadata": {
    "tags": []
   },
   "outputs": [
    {
     "data": {
      "text/plain": [
       "1453"
      ]
     },
     "execution_count": 17,
     "metadata": {},
     "output_type": "execute_result"
    }
   ],
   "source": [
    "houses['PoolQC'].isna().sum()"
   ]
  },
  {
   "cell_type": "code",
   "execution_count": 6,
   "id": "f32a8c15-ffb1-4b23-8512-3f228701dadc",
   "metadata": {
    "tags": []
   },
   "outputs": [
    {
     "name": "stdout",
     "output_type": "stream",
     "text": [
      "asdfasdf and asdfadf\n"
     ]
    }
   ],
   "source": [
    "print(\"{} and {}\".format('asdfasdf', 'asdfadf'))"
   ]
  },
  {
   "cell_type": "code",
   "execution_count": 30,
   "id": "77d1b5a1-9b98-4859-a556-6befbb5111b8",
   "metadata": {
    "tags": []
   },
   "outputs": [],
   "source": [
    "def showColumnsWithNanValues():\n",
    "    print(\"Qty of nan values by column:\")\n",
    "    columnsTotal = 0\n",
    "    for column in houses.columns.values:\n",
    "        nanQty = houses[column].isna().sum()\n",
    "        columnType = houses[column].dtypes\n",
    "        if nanQty > 0:\n",
    "            print(\"{} => nan: {}, type: {}\".format(column, nanQty, columnType))\n",
    "            columnsTotal += 1\n",
    "    print(\"Columns total: {}\".format(columnsTotal))"
   ]
  },
  {
   "cell_type": "code",
   "execution_count": 33,
   "id": "ba0fc558-c7d7-4cec-bcb3-c69f3815c821",
   "metadata": {
    "tags": []
   },
   "outputs": [
    {
     "name": "stdout",
     "output_type": "stream",
     "text": [
      "Qty of nan values by column:\n",
      "LotFrontage => nan: 259, type: float64\n",
      "Alley => nan: 1369, type: object\n",
      "MasVnrType => nan: 8, type: object\n",
      "MasVnrArea => nan: 8, type: float64\n",
      "BsmtQual => nan: 37, type: object\n",
      "BsmtCond => nan: 37, type: object\n",
      "BsmtExposure => nan: 38, type: object\n",
      "BsmtFinType1 => nan: 37, type: object\n",
      "BsmtFinType2 => nan: 38, type: object\n",
      "Electrical => nan: 1, type: object\n",
      "FireplaceQu => nan: 690, type: object\n",
      "GarageType => nan: 81, type: object\n",
      "GarageYrBlt => nan: 81, type: float64\n",
      "GarageFinish => nan: 81, type: object\n",
      "GarageQual => nan: 81, type: object\n",
      "GarageCond => nan: 81, type: object\n",
      "PoolQC => nan: 1453, type: object\n",
      "Fence => nan: 1179, type: object\n",
      "MiscFeature => nan: 1406, type: object\n",
      "Columns total: 19\n"
     ]
    }
   ],
   "source": [
    "showColumnsWithNanValues()"
   ]
  },
  {
   "cell_type": "code",
   "execution_count": 19,
   "id": "460bb539-ee29-4390-a4f5-b48125d3406e",
   "metadata": {
    "tags": []
   },
   "outputs": [
    {
     "data": {
      "text/plain": [
       "dtype('int64')"
      ]
     },
     "execution_count": 19,
     "metadata": {},
     "output_type": "execute_result"
    }
   ],
   "source": [
    "houses['Id'].dtypes"
   ]
  },
  {
   "cell_type": "code",
   "execution_count": 45,
   "id": "621d419c-73e8-44d8-a3d9-43834b5deec8",
   "metadata": {
    "tags": []
   },
   "outputs": [
    {
     "name": "stdout",
     "output_type": "stream",
     "text": [
      "Replaced nan values of columns:\n"
     ]
    }
   ],
   "source": [
    "# Replace float or int missing data with column mean value\n",
    "print(\"Replaced nan values of columns:\")\n",
    "for column in houses.columns.values:\n",
    "    nanQty = houses[column].isna().sum()\n",
    "    columnType = houses[column].dtypes\n",
    "    if nanQty > 0:\n",
    "        if columnType == 'float64' or columnType == 'int64':\n",
    "            houses[column].fillna((houses[column].mean()), inplace=True)\n",
    "            print(\"{}\".format(column))"
   ]
  },
  {
   "cell_type": "code",
   "execution_count": 46,
   "id": "7662ab49-a24a-457c-9600-e09d36ff0ece",
   "metadata": {
    "tags": []
   },
   "outputs": [
    {
     "name": "stdout",
     "output_type": "stream",
     "text": [
      "Qty of nan values by column:\n",
      "Alley => nan: 1369, type: object\n",
      "MasVnrType => nan: 8, type: object\n",
      "BsmtQual => nan: 37, type: object\n",
      "BsmtCond => nan: 37, type: object\n",
      "BsmtExposure => nan: 38, type: object\n",
      "BsmtFinType1 => nan: 37, type: object\n",
      "BsmtFinType2 => nan: 38, type: object\n",
      "Electrical => nan: 1, type: object\n",
      "FireplaceQu => nan: 690, type: object\n",
      "GarageType => nan: 81, type: object\n",
      "GarageFinish => nan: 81, type: object\n",
      "GarageQual => nan: 81, type: object\n",
      "GarageCond => nan: 81, type: object\n",
      "PoolQC => nan: 1453, type: object\n",
      "Fence => nan: 1179, type: object\n",
      "MiscFeature => nan: 1406, type: object\n",
      "Columns total: 16\n"
     ]
    }
   ],
   "source": [
    "showColumnsWithNanValues()"
   ]
  },
  {
   "cell_type": "markdown",
   "id": "fb494dad-cfea-4253-819f-391455951e07",
   "metadata": {},
   "source": [
    "### Columns with nan value description\n",
    "- Alley => is basic pave or no pave, so it is just make a numeric label\n",
    "- MasVnrType => replace nan with None\n",
    "- BsmtQual => replace nan with NA\n",
    "- BsmtCond => replace nan with NA"
   ]
  },
  {
   "cell_type": "code",
   "execution_count": 54,
   "id": "6317999b-2692-4764-a4d5-aaa8f2a99c0e",
   "metadata": {
    "tags": []
   },
   "outputs": [
    {
     "data": {
      "text/plain": [
       "0       TA\n",
       "1       TA\n",
       "2       TA\n",
       "3       Gd\n",
       "4       TA\n",
       "        ..\n",
       "1455    TA\n",
       "1456    TA\n",
       "1457    Gd\n",
       "1458    TA\n",
       "1459    TA\n",
       "Name: BsmtCond, Length: 1460, dtype: object"
      ]
     },
     "execution_count": 54,
     "metadata": {},
     "output_type": "execute_result"
    }
   ],
   "source": [
    "houses['BsmtCond']"
   ]
  },
  {
   "cell_type": "code",
   "execution_count": null,
   "id": "88108ea4-629d-4ce0-9e67-2b31eb88af1e",
   "metadata": {},
   "outputs": [],
   "source": [
    "# Next step is to build function that replaces column nan values with some desired values\n",
    "# for string data"
   ]
  }
 ],
 "metadata": {
  "kernelspec": {
   "display_name": "Python 3 (ipykernel)",
   "language": "python",
   "name": "python3"
  },
  "language_info": {
   "codemirror_mode": {
    "name": "ipython",
    "version": 3
   },
   "file_extension": ".py",
   "mimetype": "text/x-python",
   "name": "python",
   "nbconvert_exporter": "python",
   "pygments_lexer": "ipython3",
   "version": "3.10.9"
  }
 },
 "nbformat": 4,
 "nbformat_minor": 5
}
